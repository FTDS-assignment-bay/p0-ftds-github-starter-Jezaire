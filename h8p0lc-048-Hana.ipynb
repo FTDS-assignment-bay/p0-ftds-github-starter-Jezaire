{
 "cells": [
  {
   "cell_type": "code",
   "execution_count": null,
   "id": "991f2e67",
   "metadata": {},
   "outputs": [],
   "source": [
    "Nama: Nahdah Hanifah\n",
    "Batch: 048 "
   ]
  },
  {
   "cell_type": "code",
   "execution_count": null,
   "id": "860eff1b",
   "metadata": {},
   "outputs": [],
   "source": [
    "#title\n",
    "while(True):\n",
    "  print()\n",
    "  print(\"============================\")\n",
    "  print(\"Program Inventory Management\")\n",
    "  print(\"============================\")\n",
    "#menu\n",
    "  print(\"Menu: \")\n",
    "  print(\"1. Input data\")\n",
    "  print(\"2. Menampilkan data\")\n",
    "  print(\"Pilih menu atau keluar: exit\")\n",
    "  user = input()\n",
    "  print()\n",
    "\n",
    "  if user == 1:\n",
    "    class data_input:\n",
    "      def __init__ (self, nama, kategori, harga)\n",
    "        self.nama  = nama\n",
    "        self.kategori = kategori\n",
    "        self.harga = harga\n",
    "    \n",
    "    class inventory:\n",
    "      def __init__(self):\n",
    "        self.inventoryInput = []\n",
    "      \n",
    "      def addStuff(self, name, category, price):\n",
    "        print(\"============================\")\n",
    "        print(\"Menu Input Data Inventory\")\n",
    "        print(\"============================\")\n",
    "        for i in self.inventoryInput:\n",
    "          stuff_name = input(\"Masukkan nama barang: \")\n",
    "          stuff_category = input(\"Masukkan kategori barang: \")\n",
    "          stuff_price = input(\"Masukkan harga (Rupiah): \")\n",
    "          self.inventoryInput.append(data_input(stuff_name, stuff_category, stuff_price))\n",
    "          print(\"Terimakasih, data telah disimpan.\")\n",
    "      \n",
    "      def inventorySearch(self, name, category, price):\n",
    "        print(\"============================\")\n",
    "        print(\"Menu input data inventory\")\n",
    "        print(\"============================\")\n",
    "        for i in self.inventoryInput:\n",
    "          if i.name, i.category, i.price != name, category, price:\n",
    "            print(\"Data belum ada\")\n",
    "\n",
    "  elif user == \"Exit\":\n",
    "      print(\"Terimakasih, sampai jumpa\")"
   ]
  }
 ],
 "metadata": {
  "language_info": {
   "name": "python"
  }
 },
 "nbformat": 4,
 "nbformat_minor": 5
}
