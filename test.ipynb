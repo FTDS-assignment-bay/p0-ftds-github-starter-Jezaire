{
 "cells": [
  {
   "cell_type": "markdown",
   "id": "6b080329",
   "metadata": {},
   "source": [
    " \"1. `git clone <link repo>` -> untuk download repo github ke lokal\\n\",\n",
    "    \"2. `cd <repo lokal>` -> pindah ke path repo lokal\\n\",\n",
    "    \"3. Buat file baru/ pindahkan file baru/assignment ke dalam repo lokal\\n\",\n",
    "    \"\\n\",\n",
    "    \"--- Kalo cicil push dan mau push update an, mulai dari step 4, bukan dari step 1---\\n\",\n",
    "    \"\\n\",\n",
    "    \"4. `git status` -> harusnya file baru/assignment berwarna merah, artinya terdeteksi\\n\",\n",
    "    \"5. `git add .` -> memasukan (semua) file baru/assignment tersebut ke stage mode. Kalau mau beberapa file saja bisa pakai `git add <namafile.tipe>` \\n\",\n",
    "    \"6. `git status` -> harusnya file baru/assignment tersebut berubah jadi hijau (sudah dlm stage mode)\\n\",\n",
    "    \"7. `git commit -m \\\"<messagenya apa?>\\\"` -> menulis versi, misal skripsi_rev1/skripsi_final\\n\",\n",
    "    \"8. `git push` -> untuk submit ke repo github\\n\",\n",
    "    \"9. Make sure file baru/assignment di repo github kalian sudah sesuai dengan yg di repo lokal\""
   ]
  },
  {
   "cell_type": "code",
   "execution_count": 3,
   "id": "82721cf6",
   "metadata": {},
   "outputs": [
    {
     "data": {
      "text/plain": [
       "4"
      ]
     },
     "execution_count": 3,
     "metadata": {},
     "output_type": "execute_result"
    }
   ],
   "source": [
    "2*2"
   ]
  },
  {
   "cell_type": "markdown",
   "id": "2e08047a",
   "metadata": {},
   "source": []
  },
  {
   "cell_type": "code",
   "execution_count": null,
   "id": "7d49dde6",
   "metadata": {},
   "outputs": [
    {
     "data": {
      "text/plain": [
       "4"
      ]
     },
     "execution_count": 5,
     "metadata": {},
     "output_type": "execute_result"
    }
   ],
   "source": [
    "# comment: ctrl + ?\n",
    "2 * 2"
   ]
  },
  {
   "cell_type": "markdown",
   "id": "23ea0c40",
   "metadata": {},
   "source": [
    "*Yikes* \n",
    "**Yikes**\n",
    "$$ y = a +3x $$\n",
    "\n"
   ]
  },
  {
   "cell_type": "code",
   "execution_count": null,
   "id": "a8e2bc9d",
   "metadata": {},
   "outputs": [],
   "source": []
  }
 ],
 "metadata": {
  "kernelspec": {
   "display_name": "base",
   "language": "python",
   "name": "python3"
  },
  "language_info": {
   "codemirror_mode": {
    "name": "ipython",
    "version": 3
   },
   "file_extension": ".py",
   "mimetype": "text/x-python",
   "name": "python",
   "nbconvert_exporter": "python",
   "pygments_lexer": "ipython3",
   "version": "3.13.5"
  }
 },
 "nbformat": 4,
 "nbformat_minor": 5
}
